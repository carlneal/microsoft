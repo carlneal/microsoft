{
 "cells": [
  {
   "cell_type": "code",
   "execution_count": 13,
   "metadata": {},
   "outputs": [],
   "source": [
    "import cognitive_face as CF\n",
    "import configuration # Load Key from config.py\n",
    "# Replace <Subscription Key> with your valid subscription key.\n",
    "SUBSCRIPTION_KEY = configuration.face_subscription_key\n",
    "assert SUBSCRIPTION_KEY"
   ]
  },
  {
   "cell_type": "code",
   "execution_count": 14,
   "metadata": {},
   "outputs": [],
   "source": [
    "BASE_URL = 'https://eastus2.api.cognitive.microsoft.com/face/v1.0/'\n",
    "PERSON_GROUP_ID = 'known-persons'\n",
    "CF.BaseUrl.set(BASE_URL)\n",
    "CF.Key.set(SUBSCRIPTION_KEY)"
   ]
  },
  {
   "cell_type": "code",
   "execution_count": 15,
   "metadata": {},
   "outputs": [
    {
     "data": {
      "text/plain": [
       "{}"
      ]
     },
     "execution_count": 15,
     "metadata": {},
     "output_type": "execute_result"
    }
   ],
   "source": [
    "#create a new person group where we store the faces we want to verify later\n",
    "CF.person_group.create(PERSON_GROUP_ID, 'Known Persons')"
   ]
  },
  {
   "cell_type": "code",
   "execution_count": 21,
   "metadata": {},
   "outputs": [],
   "source": [
    "#add a new person with some optional user data to it\n",
    "name = \"Warren Buffet\"\n",
    "user_data = 'Investor'\n",
    "response = CF.person.create(PERSON_GROUP_ID, name, user_data)\n",
    "\n",
    "# Get person_id from response\n",
    "person_id = response['personId']"
   ]
  },
  {
   "cell_type": "code",
   "execution_count": 23,
   "metadata": {},
   "outputs": [
    {
     "data": {
      "text/plain": [
       "{'persistedFaceId': '2d4b8d1d-4762-4ea3-b88e-d56a61b2c3c6'}"
      ]
     },
     "execution_count": 23,
     "metadata": {},
     "output_type": "execute_result"
    }
   ],
   "source": [
    "CF.person.add_face('./images/warren_buffett.jpg', PERSON_GROUP_ID, person_id)"
   ]
  },
  {
   "cell_type": "code",
   "execution_count": 25,
   "metadata": {},
   "outputs": [
    {
     "name": "stdout",
     "output_type": "stream",
     "text": [
      "[{'personId': '4e91760a-1721-471e-8d5a-335adff01742', 'persistedFaceIds': ['ee33ded3-01f3-4c5c-a17b-b4556b43f8be'], 'name': 'Clemens Siebler', 'userData': 'Sales Associate'}, {'personId': '6b785e16-eaaa-473b-91cb-0a89ae6d4c39', 'persistedFaceIds': ['2d4b8d1d-4762-4ea3-b88e-d56a61b2c3c6'], 'name': 'Warren Buffet', 'userData': 'Investor'}]\n"
     ]
    }
   ],
   "source": [
    "print(CF.person.lists(PERSON_GROUP_ID))"
   ]
  },
  {
   "cell_type": "code",
   "execution_count": 32,
   "metadata": {},
   "outputs": [
    {
     "data": {
      "text/plain": [
       "{}"
      ]
     },
     "execution_count": 32,
     "metadata": {},
     "output_type": "execute_result"
    }
   ],
   "source": [
    "#As we added a new face to our person group, we need to re-train our model\n",
    "CF.person_group.train(PERSON_GROUP_ID)"
   ]
  },
  {
   "cell_type": "code",
   "execution_count": 34,
   "metadata": {},
   "outputs": [],
   "source": [
    "#Get Status of trained model\n",
    "response = CF.person_group.get_status(PERSON_GROUP_ID)\n",
    "status = response\n",
    "status"
   ]
  },
  {
   "cell_type": "code",
   "execution_count": 45,
   "metadata": {},
   "outputs": [
    {
     "data": {
      "text/plain": [
       "[{'faceId': '7fb86ffb-91f4-4897-9fea-5a3494929c70',\n",
       "  'faceRectangle': {'top': 201, 'left': 730, 'width': 327, 'height': 327}},\n",
       " {'faceId': '03b019bc-b3eb-4c55-acc9-285ab3821362',\n",
       "  'faceRectangle': {'top': 444, 'left': 1372, 'width': 237, 'height': 237}}]"
      ]
     },
     "execution_count": 45,
     "metadata": {},
     "output_type": "execute_result"
    }
   ],
   "source": [
    "response"
   ]
  },
  {
   "cell_type": "code",
   "execution_count": 44,
   "metadata": {},
   "outputs": [
    {
     "name": "stdout",
     "output_type": "stream",
     "text": [
      "['7fb86ffb-91f4-4897-9fea-5a3494929c70', '03b019bc-b3eb-4c55-acc9-285ab3821362']\n",
      "[{'faceId': '7fb86ffb-91f4-4897-9fea-5a3494929c70', 'candidates': [{'personId': '6b785e16-eaaa-473b-91cb-0a89ae6d4c39', 'confidence': 0.64419}]}, {'faceId': '03b019bc-b3eb-4c55-acc9-285ab3821362', 'candidates': []}]\n"
     ]
    }
   ],
   "source": [
    "# Pass in new image and sese if we can identify the previously registerd face\n",
    "response = CF.face.detect('./images/warren_buffet_test2.jpg')\n",
    "face_ids = [d['faceId'] for d in response]\n",
    "print(face_ids)\n",
    "\n",
    "identified_faces = CF.face.identify(face_ids, PERSON_GROUP_ID)\n",
    "print(identified_faces)"
   ]
  },
  {
   "cell_type": "code",
   "execution_count": null,
   "metadata": {},
   "outputs": [],
   "source": []
  },
  {
   "cell_type": "code",
   "execution_count": null,
   "metadata": {},
   "outputs": [],
   "source": []
  }
 ],
 "metadata": {
  "kernelspec": {
   "display_name": "Python 3",
   "language": "python",
   "name": "python3"
  },
  "language_info": {
   "codemirror_mode": {
    "name": "ipython",
    "version": 3
   },
   "file_extension": ".py",
   "mimetype": "text/x-python",
   "name": "python",
   "nbconvert_exporter": "python",
   "pygments_lexer": "ipython3",
   "version": "3.6.5"
  }
 },
 "nbformat": 4,
 "nbformat_minor": 2
}
