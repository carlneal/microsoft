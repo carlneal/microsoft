{
 "cells": [
  {
   "cell_type": "code",
   "execution_count": 1,
   "metadata": {},
   "outputs": [],
   "source": [
    "from azure.cognitiveservices.search.imagesearch import ImageSearchAPI\n",
    "from msrest.authentication import CognitiveServicesCredentials\n",
    "import csv\n",
    "import requests\n",
    "import os"
   ]
  },
  {
   "cell_type": "code",
   "execution_count": 2,
   "metadata": {},
   "outputs": [],
   "source": [
    "def bing_search(key, search):\n",
    "    client = ImageSearchAPI(CognitiveServicesCredentials(subscription_key))\n",
    "    image_results = client.images.search(query=search_term)\n",
    "    \n",
    "    return image_results"
   ]
  },
  {
   "cell_type": "code",
   "execution_count": 74,
   "metadata": {},
   "outputs": [],
   "source": [
    "def download_search(image_results, directory):\n",
    "    ### Create Directory if Not Exists\n",
    "    # directory = './macysrugs'\n",
    "    \n",
    "    if not os.path.exists(directory):\n",
    "        os.makedirs(directory)\n",
    "    \n",
    "    new_image_search = image_results\n",
    "    # Save images to file\n",
    "    if len(image_results) != 0:\n",
    "        first_image_result = new_image_search.value\n",
    "        print(\"Total number of images returned: {}\".format(len(new_image_search.value)))\n",
    "        print(\"First image thumbnail url: {}\".format(first_image_result.thumbnail_url))\n",
    "        print(\"First image content url: {}\".format(first_image_result.content_url))\n",
    "\n",
    "        filename = directory + \"macysrugs\"+str(i)+\".jpg\"\n",
    "        #first_image_result = new_image_search.value[i]\n",
    "        url = first_image_result.thumbnail_url\n",
    "        result = requests.get(url, stream=True)\n",
    "        if result.status_code == 200:\n",
    "            image = result.raw.read()\n",
    "            open(filename,\"wb\").write(image)\n",
    "            print(\"Downloaded {} to {}\".format(filename, directory))\n",
    "    else:\n",
    "        print(\"No image results returned!\")"
   ]
  },
  {
   "cell_type": "code",
   "execution_count": 42,
   "metadata": {},
   "outputs": [],
   "source": [
    "def split_search_term(search):\n",
    "    # To Parse out the Macys.com site identifieer\n",
    "    search = search.split(\" \")\n",
    "    search_term = \"\"\n",
    "    for i in range(len(search)):\n",
    "        #print(str(i))\n",
    "        if i == len(search) -1:\n",
    "            search_term += search[i]\n",
    "        else:\n",
    "            if i != 0:\n",
    "                search_term += search[i] + \" \"\n",
    "    return search_term.strip()"
   ]
  },
  {
   "cell_type": "code",
   "execution_count": 71,
   "metadata": {},
   "outputs": [],
   "source": [
    "def download_save_bingresults(search_term):\n",
    "    # iterate through an array of search terms and return results\n",
    "    for i in range(len(search_term)-1):\n",
    "        stripped_name = split_search_term(search_term[i])\n",
    "        print(\"stripped name = \" + stripped_name)\n",
    "        print(\"search term = \" + search_term[i])\n",
    "        sub_directory = download_directory + stripped_name + \"/\"\n",
    "        \n",
    "        # Iterate through each search term\n",
    "        image_results = bing_search(subscription_key, search_term)\n",
    "        print(\"Downloading \\\"{}\\\" to \\\"{}\\\"\".format(search_term[i], sub_directory))\n",
    "        download_search(image_results, sub_directory)\n",
    "        print(\"{} completed downloading and saved to file\".format(stripped_name))\n",
    "    print(\"Process Complete!\")"
   ]
  },
  {
   "cell_type": "code",
   "execution_count": 154,
   "metadata": {},
   "outputs": [],
   "source": [
    "subscription_key = \"bcd28d69136d45799a044d7d8ce79384\"\n",
    "# search_term = [\"site:macys.com Outdoor Rugs\",\"site:macys.com Door Mats\",\"site:macys.com Hallway Runners\",\"site:macys.com Large Area Rugs\",\"site:macys.com Kitchen Rugs\"]\n",
    "search_term = [\"site:macys.com Hallway Runners\",\"site:macys.com Large Area Rugs\"]\n",
    "download_directory = './macysrugs/'"
   ]
  },
  {
   "cell_type": "code",
   "execution_count": 115,
   "metadata": {},
   "outputs": [],
   "source": [
    "# download_save_bingresults(search_term)"
   ]
  },
  {
   "cell_type": "code",
   "execution_count": 153,
   "metadata": {},
   "outputs": [
    {
     "data": {
      "text/plain": [
       "['site:macys.com Hallway Runners', 'site:macys.com Large Area Rugs']"
      ]
     },
     "execution_count": 153,
     "metadata": {},
     "output_type": "execute_result"
    }
   ],
   "source": [
    "search_term"
   ]
  },
  {
   "cell_type": "code",
   "execution_count": 125,
   "metadata": {},
   "outputs": [
    {
     "data": {
      "text/plain": [
       "[<azure.cognitiveservices.search.imagesearch.models.image_object_py3.ImageObject at 0x20731aa3da0>,\n",
       " <azure.cognitiveservices.search.imagesearch.models.image_object_py3.ImageObject at 0x20731aa3c18>,\n",
       " <azure.cognitiveservices.search.imagesearch.models.image_object_py3.ImageObject at 0x20731aa33c8>,\n",
       " <azure.cognitiveservices.search.imagesearch.models.image_object_py3.ImageObject at 0x20731aa3828>,\n",
       " <azure.cognitiveservices.search.imagesearch.models.image_object_py3.ImageObject at 0x20731aa3908>,\n",
       " <azure.cognitiveservices.search.imagesearch.models.image_object_py3.ImageObject at 0x20731aa3e10>,\n",
       " <azure.cognitiveservices.search.imagesearch.models.image_object_py3.ImageObject at 0x20731aa3128>,\n",
       " <azure.cognitiveservices.search.imagesearch.models.image_object_py3.ImageObject at 0x20731c42400>,\n",
       " <azure.cognitiveservices.search.imagesearch.models.image_object_py3.ImageObject at 0x20731c42080>,\n",
       " <azure.cognitiveservices.search.imagesearch.models.image_object_py3.ImageObject at 0x20731d050f0>,\n",
       " <azure.cognitiveservices.search.imagesearch.models.image_object_py3.ImageObject at 0x20731d05198>,\n",
       " <azure.cognitiveservices.search.imagesearch.models.image_object_py3.ImageObject at 0x20731d05240>,\n",
       " <azure.cognitiveservices.search.imagesearch.models.image_object_py3.ImageObject at 0x20731d052e8>,\n",
       " <azure.cognitiveservices.search.imagesearch.models.image_object_py3.ImageObject at 0x20731d05390>,\n",
       " <azure.cognitiveservices.search.imagesearch.models.image_object_py3.ImageObject at 0x20731d05470>,\n",
       " <azure.cognitiveservices.search.imagesearch.models.image_object_py3.ImageObject at 0x20731d05518>,\n",
       " <azure.cognitiveservices.search.imagesearch.models.image_object_py3.ImageObject at 0x20731d055c0>,\n",
       " <azure.cognitiveservices.search.imagesearch.models.image_object_py3.ImageObject at 0x20731d05668>,\n",
       " <azure.cognitiveservices.search.imagesearch.models.image_object_py3.ImageObject at 0x20731d05748>,\n",
       " <azure.cognitiveservices.search.imagesearch.models.image_object_py3.ImageObject at 0x20731d057f0>,\n",
       " <azure.cognitiveservices.search.imagesearch.models.image_object_py3.ImageObject at 0x20731d058d0>,\n",
       " <azure.cognitiveservices.search.imagesearch.models.image_object_py3.ImageObject at 0x20731d05978>,\n",
       " <azure.cognitiveservices.search.imagesearch.models.image_object_py3.ImageObject at 0x20731d05a20>,\n",
       " <azure.cognitiveservices.search.imagesearch.models.image_object_py3.ImageObject at 0x20731d05b38>,\n",
       " <azure.cognitiveservices.search.imagesearch.models.image_object_py3.ImageObject at 0x20731d05be0>,\n",
       " <azure.cognitiveservices.search.imagesearch.models.image_object_py3.ImageObject at 0x20731d05c88>,\n",
       " <azure.cognitiveservices.search.imagesearch.models.image_object_py3.ImageObject at 0x20731d05d68>,\n",
       " <azure.cognitiveservices.search.imagesearch.models.image_object_py3.ImageObject at 0x20731d05e80>,\n",
       " <azure.cognitiveservices.search.imagesearch.models.image_object_py3.ImageObject at 0x20731d05f28>,\n",
       " <azure.cognitiveservices.search.imagesearch.models.image_object_py3.ImageObject at 0x20731d05fd0>,\n",
       " <azure.cognitiveservices.search.imagesearch.models.image_object_py3.ImageObject at 0x20731d0c0f0>,\n",
       " <azure.cognitiveservices.search.imagesearch.models.image_object_py3.ImageObject at 0x20731be33c8>,\n",
       " <azure.cognitiveservices.search.imagesearch.models.image_object_py3.ImageObject at 0x20731be3860>,\n",
       " <azure.cognitiveservices.search.imagesearch.models.image_object_py3.ImageObject at 0x20731be34a8>,\n",
       " <azure.cognitiveservices.search.imagesearch.models.image_object_py3.ImageObject at 0x20731d0c1d0>]"
      ]
     },
     "execution_count": 125,
     "metadata": {},
     "output_type": "execute_result"
    }
   ],
   "source": [
    "# download_search(image_results,sub_directory)\n",
    "image_results.value"
   ]
  },
  {
   "cell_type": "code",
   "execution_count": 155,
   "metadata": {},
   "outputs": [
    {
     "data": {
      "text/plain": [
       "range(0, 1)"
      ]
     },
     "execution_count": 155,
     "metadata": {},
     "output_type": "execute_result"
    }
   ],
   "source": [
    "range(len(search_term)-1)"
   ]
  },
  {
   "cell_type": "code",
   "execution_count": 151,
   "metadata": {},
   "outputs": [
    {
     "data": {
      "text/plain": [
       "'http://www.stabbedinback.com/wp-content/uploads/2017/10/Cool-Rug-Runners-for-Hallways.jpg'"
      ]
     },
     "execution_count": 151,
     "metadata": {},
     "output_type": "execute_result"
    }
   ],
   "source": [
    "image_results.value[9].content_url"
   ]
  },
  {
   "cell_type": "code",
   "execution_count": 143,
   "metadata": {},
   "outputs": [],
   "source": [
    "image_results = bing_search(subscription_key, search_term[1])"
   ]
  },
  {
   "cell_type": "code",
   "execution_count": 158,
   "metadata": {},
   "outputs": [
    {
     "name": "stdout",
     "output_type": "stream",
     "text": [
      "::::::::::::::::::::::: count =0\n",
      "stripped name = Hallway Runners\n",
      "search term = site:macys.com Hallway Runners\n",
      "sub directory = ./macysrugs/Hallway Runners/\n",
      "Beginning search of site:macys.com Hallway Runners\n",
      "Total number of images returned: 35\n",
      "https://s3-eu-west-1.amazonaws.com/images.linnlive.com/4f1223c0f26f446a618208cdf35bef20/a2c96388-69f7-43af-b6be-8ae64187e071.jpg\n",
      "http://i.ebayimg.com/images/i/252328149567-0-1/s-l1000.jpg\n",
      "https://themprojects.com/wp-content/uploads/2017/09/flooring-runner-area-rugs-hallway-runners-hall-runner-carpet-inside-washable-runner-rugs-for-hallways.jpg\n",
      "http://swineflumaps.com/wp-content/uploads/2018/03/area-rugs-outstanding-runner-for-hallway-appealing-in-extra-long-rug-design-19.jpg\n",
      "http://tenchicha.com/t/2017/07/sisal-rug-ikea-hall-runner-rugs-ikea-lappljung-rug-carpet-runners-for-hallways-sisal-rugs-ikea-fluffy-area-rugs-plush-area-rugs-jute-area-rug-area-rugs-ikea-grey-rug-5x7-extra-large-area-r.jpg\n",
      "https://themprojects.com/wp-content/uploads/2017/09/area-rugs-stunning-lowes-area-rugs-large-rugs-as-red-runner-rug-with-red-runner-rugs-for-hallway.jpg\n",
      "http://d3d71ba2asa5oz.cloudfront.net/53000223/images/hd-roy41018blk-28__2.jpg\n",
      "http://www.darbylanefurniture.com/wp-content/uploads/2017/05/best-hall-rugs-on-cheap-area-rugs-elegant-hearth-rugs-hall-runner-rugs-3.jpg\n",
      "https://themprojects.com/wp-content/uploads/2017/09/area-rugs-outstanding-runner-rugs-for-hallway-rug-runners-with-intended-for-hallway-runner-rugs.jpg\n",
      "http://www.stabbedinback.com/wp-content/uploads/2017/10/Cool-Rug-Runners-for-Hallways.jpg\n",
      "https://themprojects.com/wp-content/uploads/2017/09/rug-runner-area-rugs-touch-of-class-pertaining-to-hall-runners-gold-coast.jpg\n",
      "https://themprojects.com/wp-content/uploads/2017/09/amazon-silk-traditional-area-rug-sage-green-rug-2x8-rug-silk-pertaining-to-carpet-runners-for-hallways.jpg\n",
      "http://www.darbylanefurniture.com/wp-content/uploads/2017/05/modern-new-small-large-extra-long-short-wide-narrow-hall-runner-rugs-7.jpg\n",
      "http://i.ebayimg.com/images/i/141468853183-0-1/s-l1000.jpg\n",
      "https://s3-eu-west-1.amazonaws.com/wi-ebay-pictures/EBAY/31/30/04/400313427632_albums_vv97_TheRugHouse_Westbury_Westbury20New_3213-Brown_RR_zps6ffcdbee.jpeg\n",
      "http://i.ebayimg.com/images/i/141541481514-0-1/s-l1000.jpg\n",
      "http://decordias.com/wp-content/uploads/2017/06/red-patterned-hallway-area-rug-with-carpet-runners-for-hallways-and-stairs-plus-black-carpet-runners-for-hall-758x1011.jpg\n",
      "http://www.therughouseuk.esellersolutions.com/item/productImages/888_1.jpg\n",
      "https://www.swanstreet.com.au/assets/full/FC5739.jpg\n",
      "https://themprojects.com/wp-content/uploads/2017/09/area-rugs-glamorous-rag-rug-runner-hall-runners-cotton-runner-regarding-hallway-runners-rugs.jpg\n",
      "http://i.ebayimg.com/images/i/131158767737-0-1/s-l1000.jpg\n",
      "http://images.linnlive.com/c39741a088bbf12a129fc027040e9f3a/4c0aa4f7-9a7d-49e8-82af-95f017b7ce64.jpg\n",
      "http://i.ebayimg.com/images/i/141454048616-0-1/s-l1000.jpg\n",
      "http://i.ebayimg.com/images/i/141869258156-0-1/s-l1000.jpg\n",
      "http://i.ebayimg.com/images/i/141808800641-0-1/s-l1000.jpg\n",
      "https://s3-eu-west-1.amazonaws.com/images.linnlive.com/c39741a088bbf12a129fc027040e9f3a/4b00917a-d072-44ac-8f47-455b667fb112.jpg\n",
      "http://i.ebayimg.com/images/i/131556187655-0-1/s-l1000.jpg\n",
      "http://i.ebayimg.com/00/s/OTYwWDEyODA=/z/sjEAAOSwa39U1TKi/$_57.JPG\n",
      "http://i.ebayimg.com/images/i/131556159963-0-1/s-l1000.jpg\n",
      "http://i.ebayimg.com/images/i/131802123787-0-1/s-l1000.jpg\n",
      "http://i.ebayimg.com/images/i/141541470662-0-1/s-l1000.jpg\n",
      "http://i.ebayimg.com/images/i/141540675595-0-1/s-l1000.jpg\n",
      "https://themprojects.com/wp-content/uploads/2017/09/area-rugs-extraordinary-green-runner-rug-sage-green-runner-rug-in-green-carpet-runners-hallway.jpg\n",
      "https://themprojects.com/wp-content/uploads/2017/09/hallway-runner-rugs-silk-gold-persian-area-rugs-beige-2x8-hallway-within-red-runner-rugs-for-hallway.jpg\n",
      "::::::::::::::::::::::: count =1\n",
      "stripped name = Large Area Rugs\n",
      "search term = site:macys.com Large Area Rugs\n",
      "sub directory = ./macysrugs/Large Area Rugs/\n",
      "Beginning search of site:macys.com Large Area Rugs\n",
      "Total number of images returned: 35\n",
      "https://s3-eu-west-1.amazonaws.com/images.linnlive.com/4f1223c0f26f446a618208cdf35bef20/a2c96388-69f7-43af-b6be-8ae64187e071.jpg\n",
      "http://i.ebayimg.com/images/i/252328149567-0-1/s-l1000.jpg\n",
      "https://themprojects.com/wp-content/uploads/2017/09/flooring-runner-area-rugs-hallway-runners-hall-runner-carpet-inside-washable-runner-rugs-for-hallways.jpg\n",
      "http://swineflumaps.com/wp-content/uploads/2018/03/area-rugs-outstanding-runner-for-hallway-appealing-in-extra-long-rug-design-19.jpg\n",
      "http://tenchicha.com/t/2017/07/sisal-rug-ikea-hall-runner-rugs-ikea-lappljung-rug-carpet-runners-for-hallways-sisal-rugs-ikea-fluffy-area-rugs-plush-area-rugs-jute-area-rug-area-rugs-ikea-grey-rug-5x7-extra-large-area-r.jpg\n",
      "https://themprojects.com/wp-content/uploads/2017/09/area-rugs-stunning-lowes-area-rugs-large-rugs-as-red-runner-rug-with-red-runner-rugs-for-hallway.jpg\n",
      "http://d3d71ba2asa5oz.cloudfront.net/53000223/images/hd-roy41018blk-28__2.jpg\n",
      "http://www.darbylanefurniture.com/wp-content/uploads/2017/05/best-hall-rugs-on-cheap-area-rugs-elegant-hearth-rugs-hall-runner-rugs-3.jpg\n",
      "https://themprojects.com/wp-content/uploads/2017/09/area-rugs-outstanding-runner-rugs-for-hallway-rug-runners-with-intended-for-hallway-runner-rugs.jpg\n",
      "http://www.stabbedinback.com/wp-content/uploads/2017/10/Cool-Rug-Runners-for-Hallways.jpg\n",
      "https://themprojects.com/wp-content/uploads/2017/09/rug-runner-area-rugs-touch-of-class-pertaining-to-hall-runners-gold-coast.jpg\n",
      "https://themprojects.com/wp-content/uploads/2017/09/amazon-silk-traditional-area-rug-sage-green-rug-2x8-rug-silk-pertaining-to-carpet-runners-for-hallways.jpg\n",
      "http://www.darbylanefurniture.com/wp-content/uploads/2017/05/modern-new-small-large-extra-long-short-wide-narrow-hall-runner-rugs-7.jpg\n",
      "http://i.ebayimg.com/images/i/141468853183-0-1/s-l1000.jpg\n",
      "https://s3-eu-west-1.amazonaws.com/wi-ebay-pictures/EBAY/31/30/04/400313427632_albums_vv97_TheRugHouse_Westbury_Westbury20New_3213-Brown_RR_zps6ffcdbee.jpeg\n",
      "http://i.ebayimg.com/images/i/141541481514-0-1/s-l1000.jpg\n",
      "http://decordias.com/wp-content/uploads/2017/06/red-patterned-hallway-area-rug-with-carpet-runners-for-hallways-and-stairs-plus-black-carpet-runners-for-hall-758x1011.jpg\n",
      "http://www.therughouseuk.esellersolutions.com/item/productImages/888_1.jpg\n",
      "https://www.swanstreet.com.au/assets/full/FC5739.jpg\n",
      "https://themprojects.com/wp-content/uploads/2017/09/area-rugs-glamorous-rag-rug-runner-hall-runners-cotton-runner-regarding-hallway-runners-rugs.jpg\n",
      "http://i.ebayimg.com/images/i/131158767737-0-1/s-l1000.jpg\n",
      "http://images.linnlive.com/c39741a088bbf12a129fc027040e9f3a/4c0aa4f7-9a7d-49e8-82af-95f017b7ce64.jpg\n",
      "http://i.ebayimg.com/images/i/141454048616-0-1/s-l1000.jpg\n",
      "http://i.ebayimg.com/images/i/141869258156-0-1/s-l1000.jpg\n",
      "http://i.ebayimg.com/images/i/141808800641-0-1/s-l1000.jpg\n",
      "https://s3-eu-west-1.amazonaws.com/images.linnlive.com/c39741a088bbf12a129fc027040e9f3a/4b00917a-d072-44ac-8f47-455b667fb112.jpg\n",
      "http://i.ebayimg.com/images/i/131556187655-0-1/s-l1000.jpg\n",
      "http://i.ebayimg.com/00/s/OTYwWDEyODA=/z/sjEAAOSwa39U1TKi/$_57.JPG\n",
      "http://i.ebayimg.com/images/i/131556159963-0-1/s-l1000.jpg\n",
      "http://i.ebayimg.com/images/i/131802123787-0-1/s-l1000.jpg\n",
      "http://i.ebayimg.com/images/i/141541470662-0-1/s-l1000.jpg\n",
      "http://i.ebayimg.com/images/i/141540675595-0-1/s-l1000.jpg\n",
      "https://themprojects.com/wp-content/uploads/2017/09/area-rugs-extraordinary-green-runner-rug-sage-green-runner-rug-in-green-carpet-runners-hallway.jpg\n",
      "https://themprojects.com/wp-content/uploads/2017/09/hallway-runner-rugs-silk-gold-persian-area-rugs-beige-2x8-hallway-within-red-runner-rugs-for-hallway.jpg\n"
     ]
    }
   ],
   "source": [
    "count=0\n",
    "for i in range(len(search_term)):\n",
    "    print(\"::::::::::::::::::::::: count =\" + str(count))\n",
    "    stripped_name = split_search_term(search_term[i])\n",
    "    print(\"stripped name = \" + stripped_name)\n",
    "    print(\"search term = \" + search_term[i])\n",
    "    sub_directory = download_directory + stripped_name + \"/\"\n",
    "    print(\"sub directory = \" + sub_directory)\n",
    "    \n",
    "    print(\"Beginning search of {}\".format(search_term[i]))\n",
    "    image_results = bing_search(subscription_key, search_term[i])\n",
    "    count += 1\n",
    "    \n",
    "    print(\"Total number of images returned: {}\".format(len(image_results.value)))\n",
    "    \n",
    "    for i in range(len(image_results.value)-1):\n",
    "#     if image_results.value:\n",
    "        filename = sub_directory + \"macys_rug\"+str(i)+\".jpg\"\n",
    "        first_image_result = image_results.value[i].content_url\n",
    "        url = first_image_result\n",
    "        print(url)\n",
    "        \n",
    "#     print(image_results.value[i].content_url)\n",
    "#     print(\"First image thumbnail url: {}\".format(first_image_result.thumbnail_url))\n",
    "#     print(\"First image content url: {}\".format(first_image_result.content_url))\n",
    "        \n",
    "#     for i in range(len(image_results.value)-1):\n",
    "#         filename = sub_directory + \"macys_rug\"+str(i)+\".jpg\"\n",
    "# #         print(\"file name = \" + filename)\n",
    "# #         first_image_result = new_image_search.value[i]\n",
    "#         url = image_results.value[i].content_url\n",
    "#         print(url)\n",
    "#         result = requests.get(url, stream=True)\n",
    "#         if result.status_code == 200:\n",
    "#             image = result.raw.read()\n",
    "#             open(filename,\"wb\").write(image)\n",
    "#             print(\"Downloaded {} to {}\".format(filename, sub_directory))\n",
    "    \n",
    "#         download_search(first_image_result, sub_directory)\n",
    "    "
   ]
  },
  {
   "cell_type": "code",
   "execution_count": null,
   "metadata": {},
   "outputs": [],
   "source": []
  }
 ],
 "metadata": {
  "kernelspec": {
   "display_name": "Python 3",
   "language": "python",
   "name": "python3"
  },
  "language_info": {
   "codemirror_mode": {
    "name": "ipython",
    "version": 3
   },
   "file_extension": ".py",
   "mimetype": "text/x-python",
   "name": "python",
   "nbconvert_exporter": "python",
   "pygments_lexer": "ipython3",
   "version": "3.7.0"
  }
 },
 "nbformat": 4,
 "nbformat_minor": 2
}
