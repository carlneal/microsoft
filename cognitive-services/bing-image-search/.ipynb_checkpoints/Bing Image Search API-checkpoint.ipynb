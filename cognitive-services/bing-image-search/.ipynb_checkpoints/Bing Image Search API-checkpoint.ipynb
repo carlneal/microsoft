{
 "cells": [
  {
   "cell_type": "code",
   "execution_count": 54,
   "metadata": {},
   "outputs": [],
   "source": [
    "from azure.cognitiveservices.search.imagesearch import ImageSearchAPI\n",
    "from msrest.authentication import CognitiveServicesCredentials\n",
    "import csv\n",
    "import requests\n",
    "import os"
   ]
  },
  {
   "cell_type": "code",
   "execution_count": 20,
   "metadata": {},
   "outputs": [],
   "source": [
    "subscription_key = \"bcd28d69136d45799a044d7d8ce79384\"\n",
    "search_term = \"Macy's Rugs\""
   ]
  },
  {
   "cell_type": "code",
   "execution_count": 21,
   "metadata": {},
   "outputs": [],
   "source": [
    "client = ImageSearchAPI(CognitiveServicesCredentials(subscription_key))"
   ]
  },
  {
   "cell_type": "markdown",
   "metadata": {},
   "source": [
    "### Download the Searches from API"
   ]
  },
  {
   "cell_type": "code",
   "execution_count": 22,
   "metadata": {},
   "outputs": [],
   "source": [
    "image_results = client.images.search(query=search_term)"
   ]
  },
  {
   "cell_type": "code",
   "execution_count": 23,
   "metadata": {},
   "outputs": [
    {
     "name": "stdout",
     "output_type": "stream",
     "text": [
      "Total number of images returned: 35\n",
      "First image thumbnail url: https://tse2.mm.bing.net/th?id=OIP.6ryAnw_Jsg3il_jqBzTnKAHaJd&pid=Api\n",
      "First image content url: http://axisoflogic.com/artman/uploads/2/macy_s_rug470.JPG\n"
     ]
    }
   ],
   "source": [
    "if image_results.value:\n",
    "    first_image_result = image_results.value[0]\n",
    "    print(\"Total number of images returned: {}\".format(len(image_results.value)))\n",
    "    print(\"First image thumbnail url: {}\".format(first_image_result.thumbnail_url))\n",
    "    print(\"First image content url: {}\".format(first_image_result.content_url))\n",
    "else:\n",
    "    print(\"No image results returned!\")"
   ]
  },
  {
   "cell_type": "markdown",
   "metadata": {},
   "source": [
    "### Download Files from Files"
   ]
  },
  {
   "cell_type": "code",
   "execution_count": 61,
   "metadata": {},
   "outputs": [],
   "source": [
    "### Create Directory if Not Exists\n",
    "directory = './macysrugs'"
   ]
  },
  {
   "cell_type": "code",
   "execution_count": 62,
   "metadata": {},
   "outputs": [],
   "source": [
    "if not os.path.exists(directory):\n",
    "    os.makedirs(directory)"
   ]
  },
  {
   "cell_type": "markdown",
   "metadata": {},
   "source": [
    "### Save images to a file"
   ]
  },
  {
   "cell_type": "code",
   "execution_count": 63,
   "metadata": {},
   "outputs": [],
   "source": [
    "for i in range(len(image_results.value)-1):\n",
    "    filename = \"./macysrugs/macysrugs\"+str(i)+\".jpg\"\n",
    "    first_image_result = image_results.value[i]\n",
    "    url = first_image_result.thumbnail_url\n",
    "    result = requests.get(url, stream=True)\n",
    "    if result.status_code == 200:\n",
    "        image = result.raw.read()\n",
    "        open(filename,\"wb\").write(image)"
   ]
  },
  {
   "cell_type": "code",
   "execution_count": null,
   "metadata": {},
   "outputs": [],
   "source": []
  }
 ],
 "metadata": {
  "kernelspec": {
   "display_name": "Python 3",
   "language": "python",
   "name": "python3"
  },
  "language_info": {
   "codemirror_mode": {
    "name": "ipython",
    "version": 3
   },
   "file_extension": ".py",
   "mimetype": "text/x-python",
   "name": "python",
   "nbconvert_exporter": "python",
   "pygments_lexer": "ipython3",
   "version": "3.7.0"
  }
 },
 "nbformat": 4,
 "nbformat_minor": 2
}
